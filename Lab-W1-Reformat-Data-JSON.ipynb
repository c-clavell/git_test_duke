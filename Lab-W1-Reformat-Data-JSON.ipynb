{
 "cells": [
  {
   "cell_type": "code",
   "execution_count": 2,
   "id": "9934594d-8d73-46af-95dd-742c4035601e",
   "metadata": {},
   "outputs": [],
   "source": [
    "import pandas as pd\n",
    "import os\n",
    "import json"
   ]
  },
  {
   "cell_type": "code",
   "execution_count": 1,
   "id": "9b7a1203-7e79-47f2-9f3a-33f69416b8ce",
   "metadata": {},
   "outputs": [],
   "source": [
    "#os.getcwd()"
   ]
  },
  {
   "cell_type": "code",
   "execution_count": 3,
   "id": "755b3997-c858-4196-8e00-d17e1e68e49f",
   "metadata": {},
   "outputs": [
    {
     "data": {
      "text/html": [
       "<div>\n",
       "<style scoped>\n",
       "    .dataframe tbody tr th:only-of-type {\n",
       "        vertical-align: middle;\n",
       "    }\n",
       "\n",
       "    .dataframe tbody tr th {\n",
       "        vertical-align: top;\n",
       "    }\n",
       "\n",
       "    .dataframe thead th {\n",
       "        text-align: right;\n",
       "    }\n",
       "</style>\n",
       "<table border=\"1\" class=\"dataframe\">\n",
       "  <thead>\n",
       "    <tr style=\"text-align: right;\">\n",
       "      <th></th>\n",
       "      <th>Unnamed: 0</th>\n",
       "      <th>name</th>\n",
       "      <th>grape</th>\n",
       "      <th>region</th>\n",
       "      <th>variety</th>\n",
       "      <th>rating</th>\n",
       "      <th>notes</th>\n",
       "    </tr>\n",
       "  </thead>\n",
       "  <tbody>\n",
       "    <tr>\n",
       "      <th>0</th>\n",
       "      <td>0</td>\n",
       "      <td>Laurenz V Charming Gruner Veltliner 2013</td>\n",
       "      <td>NaN</td>\n",
       "      <td>Kamptal, Austria</td>\n",
       "      <td>White Wine</td>\n",
       "      <td>90.0</td>\n",
       "      <td>Aromas of ripe apples and a typical Veltliner ...</td>\n",
       "    </tr>\n",
       "    <tr>\n",
       "      <th>1</th>\n",
       "      <td>1</td>\n",
       "      <td>Laurenz V Charming Gruner Veltliner 2014</td>\n",
       "      <td>NaN</td>\n",
       "      <td>Kamptal, Austria</td>\n",
       "      <td>White Wine</td>\n",
       "      <td>90.0</td>\n",
       "      <td>Aromas of ripe apples and a typical Veltliner ...</td>\n",
       "    </tr>\n",
       "    <tr>\n",
       "      <th>2</th>\n",
       "      <td>2</td>\n",
       "      <td>Laurenz V Singing Gruner Veltliner 2007</td>\n",
       "      <td>NaN</td>\n",
       "      <td>Austria</td>\n",
       "      <td>White Wine</td>\n",
       "      <td>90.0</td>\n",
       "      <td>A very attractive fruit bouquet yields apple, ...</td>\n",
       "    </tr>\n",
       "  </tbody>\n",
       "</table>\n",
       "</div>"
      ],
      "text/plain": [
       "   Unnamed: 0                                      name  grape  \\\n",
       "0           0  Laurenz V Charming Gruner Veltliner 2013    NaN   \n",
       "1           1  Laurenz V Charming Gruner Veltliner 2014    NaN   \n",
       "2           2   Laurenz V Singing Gruner Veltliner 2007    NaN   \n",
       "\n",
       "             region     variety  rating  \\\n",
       "0  Kamptal, Austria  White Wine    90.0   \n",
       "1  Kamptal, Austria  White Wine    90.0   \n",
       "2           Austria  White Wine    90.0   \n",
       "\n",
       "                                               notes  \n",
       "0  Aromas of ripe apples and a typical Veltliner ...  \n",
       "1  Aromas of ripe apples and a typical Veltliner ...  \n",
       "2  A very attractive fruit bouquet yields apple, ...  "
      ]
     },
     "execution_count": 3,
     "metadata": {},
     "output_type": "execute_result"
    }
   ],
   "source": [
    "df_wine = pd.read_csv('wine-ratings-small.csv')\n",
    "\n",
    "df_wine.head(3)\n",
    "                      "
   ]
  },
  {
   "cell_type": "code",
   "execution_count": 6,
   "id": "b4b7fc02-2004-4f1d-ba45-a3a4af74442f",
   "metadata": {},
   "outputs": [
    {
     "data": {
      "text/plain": [
       "5460"
      ]
     },
     "execution_count": 6,
     "metadata": {},
     "output_type": "execute_result"
    }
   ],
   "source": [
    "df_wine.size"
   ]
  },
  {
   "cell_type": "code",
   "execution_count": 7,
   "id": "12db3137-d61d-4460-8bc5-85be7a2568ad",
   "metadata": {},
   "outputs": [
    {
     "data": {
      "text/plain": [
       "array(['Kamptal, Austria', 'Austria',\n",
       "       'El Dorado, Sierra Foothills, California',\n",
       "       'Sierra Foothills, California', 'California',\n",
       "       'Knights Valley, Sonoma County, California',\n",
       "       'Napa Valley, California', 'Chateauneuf-du-Pape, Rhone, France',\n",
       "       'Gigondas, Rhone, France', 'Rasteau, Rhone, France',\n",
       "       'Paso Robles, Central Coast, California',\n",
       "       'Central Coast, California',\n",
       "       'Willow Creek District, Paso Robles, Central Coast, California',\n",
       "       'Eola-Amity Hills, Willamette Valley, Oregon',\n",
       "       'Yamhill-Carlton District, Willamette Valley, Oregon',\n",
       "       'Dundee Hills, Willamette Valley, Oregon',\n",
       "       'Willamette Valley, Oregon', 'Portugal', 'New Zealand',\n",
       "       'Marlborough, New Zealand', 'Spain', 'Argentina', 'Italy',\n",
       "       'South Australia, Australia', 'Tuscany, Italy', 'South Africa',\n",
       "       'Champagne, France', 'St. Emilion, Bordeaux, France',\n",
       "       'Sicily, Italy', 'Rhone, France', 'Montalcino, Tuscany, Italy',\n",
       "       'France', 'Cahors, Southwest, France', 'Prosecco, Italy',\n",
       "       'Valdobbiadene, Prosecco, Italy',\n",
       "       'Chianti Classico, Chianti, Tuscany, Italy',\n",
       "       'Chablis, Burgundy, France', 'Friuli-Venezia Giulia, Italy',\n",
       "       'Bolgheri, Tuscany, Italy', 'Monterey, Central Coast, California',\n",
       "       'San Benito, Central Coast, California',\n",
       "       'Valpolicella, Veneto, Italy', 'Sancerre, Loire, France',\n",
       "       'Veneto, Italy', 'Marche, Italy',\n",
       "       'Sta. Rita Hills, Santa Barbara, Central Coast, California',\n",
       "       'Madeira, Portugal', 'Australia',\n",
       "       'Clare Valley, South Australia, Australia',\n",
       "       \"Gevrey-Chambertin, Cote de Nuits, Cote d'Or, Burgundy, France\",\n",
       "       \"Morey-St-Denis, Cote de Nuits, Cote d'Or, Burgundy, France\",\n",
       "       \"Nuits-St-Georges, Cote de Nuits, Cote d'Or, Burgundy, France\",\n",
       "       'Burgundy, France', 'Columbia Valley, Washington',\n",
       "       'Walla Walla Valley, Columbia Valley, Washington', 'Washington',\n",
       "       'Margaret River, Western Australia, Australia',\n",
       "       'Alexander Valley, Sonoma County, California',\n",
       "       'Ribera del Duero, Spain', 'Oregon',\n",
       "       'McLaren Vale, South Australia, Australia',\n",
       "       'Santa Cruz Mountains, California',\n",
       "       'Santa Ynez Valley, Santa Barbara, Central Coast, California',\n",
       "       'Mendocino, California',\n",
       "       'Dry Creek Valley, Sonoma County, California',\n",
       "       'Sonoma Mountain, Sonoma Valley, Sonoma County, California',\n",
       "       'Puglia, Italy', 'Cornas, Rhone, France',\n",
       "       'Crozes-Hermitage, Rhone, France', 'Saint-Joseph, Rhone, France',\n",
       "       'Vin de France, France', 'Cotes du Rhone, Rhone, France',\n",
       "       \"Valle d'Aosta, Italy\", 'Pauillac, Bordeaux, France',\n",
       "       'Bordeaux, France',\n",
       "       \"Coteaux d'Aix-en-Provence, Provence, South of France, France\",\n",
       "       'Cotes du Roussillon-Tautavel, Côtes du Roussillon-Villages, Roussillon, South of France, France',\n",
       "       'Provence, South of France, France',\n",
       "       'Terrasses du Larzac, Languedoc, South of France, France',\n",
       "       'Pessac-Leognan, Bordeaux, France',\n",
       "       'Russian River, Sonoma County, California',\n",
       "       'Cote Rotie, Rhone, France', 'North Coast, California',\n",
       "       'St. Helena, Napa Valley, California',\n",
       "       'Rutherford, Napa Valley, California', 'Sonoma County, California'],\n",
       "      dtype=object)"
      ]
     },
     "execution_count": 7,
     "metadata": {},
     "output_type": "execute_result"
    }
   ],
   "source": [
    "df_wine.region.unique()\n"
   ]
  },
  {
   "cell_type": "code",
   "execution_count": null,
   "id": "b3ea3bf5-423e-4fcb-be0e-eee26950c82e",
   "metadata": {},
   "outputs": [],
   "source": []
  }
 ],
 "metadata": {
  "kernelspec": {
   "display_name": "Python 3 (ipykernel)",
   "language": "python",
   "name": "python3"
  },
  "language_info": {
   "codemirror_mode": {
    "name": "ipython",
    "version": 3
   },
   "file_extension": ".py",
   "mimetype": "text/x-python",
   "name": "python",
   "nbconvert_exporter": "python",
   "pygments_lexer": "ipython3",
   "version": "3.9.7"
  }
 },
 "nbformat": 4,
 "nbformat_minor": 5
}
