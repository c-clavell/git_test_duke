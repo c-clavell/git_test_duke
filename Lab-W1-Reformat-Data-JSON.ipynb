{
 "cells": [
  {
   "cell_type": "code",
   "execution_count": 161,
   "id": "9934594d-8d73-46af-95dd-742c4035601e",
   "metadata": {},
   "outputs": [],
   "source": [
    "import pandas as pd\n",
    "import os\n",
    "import json"
   ]
  },
  {
   "cell_type": "code",
   "execution_count": 1,
   "id": "9b7a1203-7e79-47f2-9f3a-33f69416b8ce",
   "metadata": {},
   "outputs": [],
   "source": [
    "#os.getcwd()"
   ]
  },
  {
   "cell_type": "code",
   "execution_count": 162,
   "id": "755b3997-c858-4196-8e00-d17e1e68e49f",
   "metadata": {},
   "outputs": [
    {
     "data": {
      "text/html": [
       "<div>\n",
       "<style scoped>\n",
       "    .dataframe tbody tr th:only-of-type {\n",
       "        vertical-align: middle;\n",
       "    }\n",
       "\n",
       "    .dataframe tbody tr th {\n",
       "        vertical-align: top;\n",
       "    }\n",
       "\n",
       "    .dataframe thead th {\n",
       "        text-align: right;\n",
       "    }\n",
       "</style>\n",
       "<table border=\"1\" class=\"dataframe\">\n",
       "  <thead>\n",
       "    <tr style=\"text-align: right;\">\n",
       "      <th></th>\n",
       "      <th>Unnamed: 0</th>\n",
       "      <th>name</th>\n",
       "      <th>grape</th>\n",
       "      <th>region</th>\n",
       "      <th>variety</th>\n",
       "      <th>rating</th>\n",
       "      <th>notes</th>\n",
       "    </tr>\n",
       "  </thead>\n",
       "  <tbody>\n",
       "    <tr>\n",
       "      <th>0</th>\n",
       "      <td>0</td>\n",
       "      <td>Laurenz V Charming Gruner Veltliner 2013</td>\n",
       "      <td>NaN</td>\n",
       "      <td>Kamptal, Austria</td>\n",
       "      <td>White Wine</td>\n",
       "      <td>90.0</td>\n",
       "      <td>Aromas of ripe apples and a typical Veltliner ...</td>\n",
       "    </tr>\n",
       "    <tr>\n",
       "      <th>1</th>\n",
       "      <td>1</td>\n",
       "      <td>Laurenz V Charming Gruner Veltliner 2014</td>\n",
       "      <td>NaN</td>\n",
       "      <td>Kamptal, Austria</td>\n",
       "      <td>White Wine</td>\n",
       "      <td>90.0</td>\n",
       "      <td>Aromas of ripe apples and a typical Veltliner ...</td>\n",
       "    </tr>\n",
       "    <tr>\n",
       "      <th>2</th>\n",
       "      <td>2</td>\n",
       "      <td>Laurenz V Singing Gruner Veltliner 2007</td>\n",
       "      <td>NaN</td>\n",
       "      <td>Austria</td>\n",
       "      <td>White Wine</td>\n",
       "      <td>90.0</td>\n",
       "      <td>A very attractive fruit bouquet yields apple, ...</td>\n",
       "    </tr>\n",
       "  </tbody>\n",
       "</table>\n",
       "</div>"
      ],
      "text/plain": [
       "   Unnamed: 0                                      name  grape  \\\n",
       "0           0  Laurenz V Charming Gruner Veltliner 2013    NaN   \n",
       "1           1  Laurenz V Charming Gruner Veltliner 2014    NaN   \n",
       "2           2   Laurenz V Singing Gruner Veltliner 2007    NaN   \n",
       "\n",
       "             region     variety  rating  \\\n",
       "0  Kamptal, Austria  White Wine    90.0   \n",
       "1  Kamptal, Austria  White Wine    90.0   \n",
       "2           Austria  White Wine    90.0   \n",
       "\n",
       "                                               notes  \n",
       "0  Aromas of ripe apples and a typical Veltliner ...  \n",
       "1  Aromas of ripe apples and a typical Veltliner ...  \n",
       "2  A very attractive fruit bouquet yields apple, ...  "
      ]
     },
     "execution_count": 162,
     "metadata": {},
     "output_type": "execute_result"
    }
   ],
   "source": [
    "df_wine = pd.read_csv('wine-ratings-small.csv')\n",
    "\n",
    "df_wine.head(3)\n",
    "                      "
   ]
  },
  {
   "cell_type": "code",
   "execution_count": null,
   "id": "b37c65a6-6b49-444f-a9a6-6b39e889e242",
   "metadata": {},
   "outputs": [],
   "source": []
  },
  {
   "cell_type": "code",
   "execution_count": null,
   "id": "69a873a9-d812-4894-8299-f6e6272f683e",
   "metadata": {},
   "outputs": [],
   "source": [
    "##### checking data in the dataset"
   ]
  },
  {
   "cell_type": "code",
   "execution_count": null,
   "id": "36cec006-940b-41ef-9f26-6ceb21a133f9",
   "metadata": {},
   "outputs": [],
   "source": []
  },
  {
   "cell_type": "code",
   "execution_count": 65,
   "id": "b4b7fc02-2004-4f1d-ba45-a3a4af74442f",
   "metadata": {},
   "outputs": [
    {
     "data": {
      "text/plain": [
       "5460"
      ]
     },
     "execution_count": 65,
     "metadata": {},
     "output_type": "execute_result"
    }
   ],
   "source": [
    "df_wine.size"
   ]
  },
  {
   "cell_type": "code",
   "execution_count": 66,
   "id": "12db3137-d61d-4460-8bc5-85be7a2568ad",
   "metadata": {},
   "outputs": [
    {
     "data": {
      "text/plain": [
       "array(['Kamptal, Austria', 'Austria',\n",
       "       'El Dorado, Sierra Foothills, California',\n",
       "       'Sierra Foothills, California', 'California',\n",
       "       'Knights Valley, Sonoma County, California',\n",
       "       'Napa Valley, California', 'Chateauneuf-du-Pape, Rhone, France',\n",
       "       'Gigondas, Rhone, France', 'Rasteau, Rhone, France'], dtype=object)"
      ]
     },
     "execution_count": 66,
     "metadata": {},
     "output_type": "execute_result"
    }
   ],
   "source": [
    "df_wine.region.unique()[:10]\n"
   ]
  },
  {
   "cell_type": "code",
   "execution_count": 191,
   "id": "b3ea3bf5-423e-4fcb-be0e-eee26950c82e",
   "metadata": {},
   "outputs": [
    {
     "data": {
      "text/plain": [
       "dtype('float64')"
      ]
     },
     "execution_count": 191,
     "metadata": {},
     "output_type": "execute_result"
    }
   ],
   "source": [
    "mask1=df_wine.loc[:,\"region\"] == 'France'\n",
    "mask2=df_wine.loc[:,\"rating\"] <= 89.0\n",
    "\n",
    "df_wine.rating.dtype"
   ]
  },
  {
   "cell_type": "code",
   "execution_count": 68,
   "id": "b4a7bd3c-3b5a-4733-aac3-20319a1cfda3",
   "metadata": {},
   "outputs": [
    {
     "data": {
      "text/plain": [
       "array(['White Wine', 'Red Wine', 'Sparkling & Champagne', 'Pink and Rosé',\n",
       "       nan, 'Collectible'], dtype=object)"
      ]
     },
     "execution_count": 68,
     "metadata": {},
     "output_type": "execute_result"
    }
   ],
   "source": [
    "df_wine.variety.unique()"
   ]
  },
  {
   "cell_type": "code",
   "execution_count": 93,
   "id": "d12afc85-f0a5-4bc8-8a8d-692a3963eac3",
   "metadata": {},
   "outputs": [
    {
     "data": {
      "text/plain": [
       "array([nan])"
      ]
     },
     "execution_count": 93,
     "metadata": {},
     "output_type": "execute_result"
    }
   ],
   "source": [
    "df_wine.grape.unique()"
   ]
  },
  {
   "cell_type": "code",
   "execution_count": 69,
   "id": "134b9c66-16a1-4620-9c67-842ff538a137",
   "metadata": {},
   "outputs": [
    {
     "data": {
      "text/plain": [
       "array([90., 88., 89., 91., 93., 92., 97., 96., 95., 94., 98., 99., 86.,\n",
       "       87., 85.])"
      ]
     },
     "execution_count": 69,
     "metadata": {},
     "output_type": "execute_result"
    }
   ],
   "source": [
    "df_wine.rating.unique()"
   ]
  },
  {
   "cell_type": "code",
   "execution_count": 163,
   "id": "eb9b5d49-f5d6-4eec-a28a-a793ab806362",
   "metadata": {},
   "outputs": [
    {
     "data": {
      "text/plain": [
       "dtype('O')"
      ]
     },
     "execution_count": 163,
     "metadata": {},
     "output_type": "execute_result"
    }
   ],
   "source": [
    "df_wine.region.dtype"
   ]
  },
  {
   "cell_type": "code",
   "execution_count": 71,
   "id": "e5032726-7134-4973-ace4-c72a0314baeb",
   "metadata": {},
   "outputs": [
    {
     "data": {
      "text/plain": [
       "string[python]"
      ]
     },
     "execution_count": 71,
     "metadata": {},
     "output_type": "execute_result"
    }
   ],
   "source": [
    "df_wine.region=df_wine.region.astype(\"string\")\n",
    "df_wine.region.dtype"
   ]
  },
  {
   "cell_type": "code",
   "execution_count": 164,
   "id": "78c30cd4-7c34-4c35-86a7-77fcc3966236",
   "metadata": {},
   "outputs": [
    {
     "data": {
      "text/html": [
       "<div>\n",
       "<style scoped>\n",
       "    .dataframe tbody tr th:only-of-type {\n",
       "        vertical-align: middle;\n",
       "    }\n",
       "\n",
       "    .dataframe tbody tr th {\n",
       "        vertical-align: top;\n",
       "    }\n",
       "\n",
       "    .dataframe thead th {\n",
       "        text-align: right;\n",
       "    }\n",
       "</style>\n",
       "<table border=\"1\" class=\"dataframe\">\n",
       "  <thead>\n",
       "    <tr style=\"text-align: right;\">\n",
       "      <th></th>\n",
       "      <th>Unnamed: 0</th>\n",
       "      <th>name</th>\n",
       "      <th>grape</th>\n",
       "      <th>region</th>\n",
       "      <th>variety</th>\n",
       "      <th>rating</th>\n",
       "      <th>notes</th>\n",
       "    </tr>\n",
       "  </thead>\n",
       "  <tbody>\n",
       "    <tr>\n",
       "      <th>72</th>\n",
       "      <td>72</td>\n",
       "      <td>Lavradores de Feitoria Tres Bagos 2003</td>\n",
       "      <td>NaN</td>\n",
       "      <td>Portugal</td>\n",
       "      <td>Red Wine</td>\n",
       "      <td>86.0</td>\n",
       "      <td>NaN</td>\n",
       "    </tr>\n",
       "    <tr>\n",
       "      <th>73</th>\n",
       "      <td>73</td>\n",
       "      <td>Lavradores de Feitoria Tres Bagos 2004</td>\n",
       "      <td>NaN</td>\n",
       "      <td>Portugal</td>\n",
       "      <td>Red Wine</td>\n",
       "      <td>89.0</td>\n",
       "      <td>Produced from grapes from three different subr...</td>\n",
       "    </tr>\n",
       "    <tr>\n",
       "      <th>285</th>\n",
       "      <td>285</td>\n",
       "      <td>Leacock's 10 Year Bual Madiera</td>\n",
       "      <td>NaN</td>\n",
       "      <td>Portugal</td>\n",
       "      <td>NaN</td>\n",
       "      <td>88.0</td>\n",
       "      <td>Clear, amber colour with golden highlights. A ...</td>\n",
       "    </tr>\n",
       "    <tr>\n",
       "      <th>286</th>\n",
       "      <td>286</td>\n",
       "      <td>Leacock's Bual 1966</td>\n",
       "      <td>NaN</td>\n",
       "      <td>Portugal</td>\n",
       "      <td>Collectible</td>\n",
       "      <td>92.0</td>\n",
       "      <td>Clear, amber colour with golden highlights and...</td>\n",
       "    </tr>\n",
       "    <tr>\n",
       "      <th>287</th>\n",
       "      <td>287</td>\n",
       "      <td>Leacock's Rainwater Madeira</td>\n",
       "      <td>NaN</td>\n",
       "      <td>Madeira, Portugal</td>\n",
       "      <td>NaN</td>\n",
       "      <td>90.0</td>\n",
       "      <td>Made from Tinta Negra Mole grapes collected fr...</td>\n",
       "    </tr>\n",
       "  </tbody>\n",
       "</table>\n",
       "</div>"
      ],
      "text/plain": [
       "     Unnamed: 0                                    name  grape  \\\n",
       "72           72  Lavradores de Feitoria Tres Bagos 2003    NaN   \n",
       "73           73  Lavradores de Feitoria Tres Bagos 2004    NaN   \n",
       "285         285          Leacock's 10 Year Bual Madiera    NaN   \n",
       "286         286                     Leacock's Bual 1966    NaN   \n",
       "287         287             Leacock's Rainwater Madeira    NaN   \n",
       "\n",
       "                region      variety  rating  \\\n",
       "72            Portugal     Red Wine    86.0   \n",
       "73            Portugal     Red Wine    89.0   \n",
       "285           Portugal          NaN    88.0   \n",
       "286           Portugal  Collectible    92.0   \n",
       "287  Madeira, Portugal          NaN    90.0   \n",
       "\n",
       "                                                 notes  \n",
       "72                                                 NaN  \n",
       "73   Produced from grapes from three different subr...  \n",
       "285  Clear, amber colour with golden highlights. A ...  \n",
       "286  Clear, amber colour with golden highlights and...  \n",
       "287  Made from Tinta Negra Mole grapes collected fr...  "
      ]
     },
     "execution_count": 164,
     "metadata": {},
     "output_type": "execute_result"
    }
   ],
   "source": [
    "df_wine[df_wine[\"region\"].str.contains(pat='Portugal')]\n"
   ]
  },
  {
   "cell_type": "code",
   "execution_count": 165,
   "id": "c31bc1fc-5189-4804-972a-b5dc9e8d443b",
   "metadata": {},
   "outputs": [
    {
     "data": {
      "text/html": [
       "<div>\n",
       "<style scoped>\n",
       "    .dataframe tbody tr th:only-of-type {\n",
       "        vertical-align: middle;\n",
       "    }\n",
       "\n",
       "    .dataframe tbody tr th {\n",
       "        vertical-align: top;\n",
       "    }\n",
       "\n",
       "    .dataframe thead th {\n",
       "        text-align: right;\n",
       "    }\n",
       "</style>\n",
       "<table border=\"1\" class=\"dataframe\">\n",
       "  <thead>\n",
       "    <tr style=\"text-align: right;\">\n",
       "      <th></th>\n",
       "      <th>Unnamed: 0</th>\n",
       "      <th>name</th>\n",
       "      <th>grape</th>\n",
       "      <th>region</th>\n",
       "      <th>variety</th>\n",
       "      <th>rating</th>\n",
       "      <th>notes</th>\n",
       "    </tr>\n",
       "  </thead>\n",
       "  <tbody>\n",
       "    <tr>\n",
       "      <th>82</th>\n",
       "      <td>82</td>\n",
       "      <td>Layer Cake Garnacha 2011</td>\n",
       "      <td>NaN</td>\n",
       "      <td>Spain</td>\n",
       "      <td>Red Wine</td>\n",
       "      <td>90.0</td>\n",
       "      <td>Our Layer Cake Garnacha from Calatayud, Spain ...</td>\n",
       "    </tr>\n",
       "    <tr>\n",
       "      <th>534</th>\n",
       "      <td>534</td>\n",
       "      <td>Legaris Crianza 2005</td>\n",
       "      <td>NaN</td>\n",
       "      <td>Ribera del Duero, Spain</td>\n",
       "      <td>Red Wine</td>\n",
       "      <td>90.0</td>\n",
       "      <td>A wine made with 100% Tinta Fina variety. Its ...</td>\n",
       "    </tr>\n",
       "    <tr>\n",
       "      <th>535</th>\n",
       "      <td>535</td>\n",
       "      <td>Legaris Crianza 2009</td>\n",
       "      <td>NaN</td>\n",
       "      <td>Ribera del Duero, Spain</td>\n",
       "      <td>Red Wine</td>\n",
       "      <td>90.0</td>\n",
       "      <td>Deep garnet red with hues of the same color. H...</td>\n",
       "    </tr>\n",
       "    <tr>\n",
       "      <th>536</th>\n",
       "      <td>536</td>\n",
       "      <td>Legaris Crianza 2010</td>\n",
       "      <td>NaN</td>\n",
       "      <td>Ribera del Duero, Spain</td>\n",
       "      <td>Red Wine</td>\n",
       "      <td>90.0</td>\n",
       "      <td>A very intense picota cherry red with violet h...</td>\n",
       "    </tr>\n",
       "    <tr>\n",
       "      <th>537</th>\n",
       "      <td>537</td>\n",
       "      <td>Legaris Crianza 2012</td>\n",
       "      <td>NaN</td>\n",
       "      <td>Ribera del Duero, Spain</td>\n",
       "      <td>Red Wine</td>\n",
       "      <td>90.0</td>\n",
       "      <td>Very intense picota cherry red with violet hue...</td>\n",
       "    </tr>\n",
       "  </tbody>\n",
       "</table>\n",
       "</div>"
      ],
      "text/plain": [
       "     Unnamed: 0                      name  grape                   region  \\\n",
       "82           82  Layer Cake Garnacha 2011    NaN                    Spain   \n",
       "534         534      Legaris Crianza 2005    NaN  Ribera del Duero, Spain   \n",
       "535         535      Legaris Crianza 2009    NaN  Ribera del Duero, Spain   \n",
       "536         536      Legaris Crianza 2010    NaN  Ribera del Duero, Spain   \n",
       "537         537      Legaris Crianza 2012    NaN  Ribera del Duero, Spain   \n",
       "\n",
       "      variety  rating                                              notes  \n",
       "82   Red Wine    90.0  Our Layer Cake Garnacha from Calatayud, Spain ...  \n",
       "534  Red Wine    90.0  A wine made with 100% Tinta Fina variety. Its ...  \n",
       "535  Red Wine    90.0  Deep garnet red with hues of the same color. H...  \n",
       "536  Red Wine    90.0  A very intense picota cherry red with violet h...  \n",
       "537  Red Wine    90.0  Very intense picota cherry red with violet hue...  "
      ]
     },
     "execution_count": 165,
     "metadata": {},
     "output_type": "execute_result"
    }
   ],
   "source": [
    "df_wine[df_wine[\"region\"].str.contains(pat='Spain')]"
   ]
  },
  {
   "cell_type": "code",
   "execution_count": null,
   "id": "ce87ccc5-9a87-4d67-a373-6e3897616719",
   "metadata": {},
   "outputs": [],
   "source": []
  },
  {
   "cell_type": "code",
   "execution_count": null,
   "id": "862cc055-c88f-42c8-8a3c-5abde5d9d9ef",
   "metadata": {},
   "outputs": [],
   "source": []
  },
  {
   "cell_type": "code",
   "execution_count": null,
   "id": "73757dbb-ad72-47b2-bb8c-c7095757b92f",
   "metadata": {},
   "outputs": [],
   "source": [
    "################################################### Conditions "
   ]
  },
  {
   "cell_type": "code",
   "execution_count": null,
   "id": "28fd7a9d-a923-4ac2-9ba9-26f9bb8ee3cd",
   "metadata": {},
   "outputs": [],
   "source": []
  },
  {
   "cell_type": "code",
   "execution_count": 166,
   "id": "fa198f7c-3fc9-4de2-b9ab-704c667225cf",
   "metadata": {},
   "outputs": [],
   "source": [
    "region=\"Italy\"\n",
    "variety=\"White\"\n",
    "rating= 91.0"
   ]
  },
  {
   "cell_type": "code",
   "execution_count": null,
   "id": "43d01b60-534d-4e09-b223-a5dcb532c735",
   "metadata": {},
   "outputs": [],
   "source": []
  },
  {
   "cell_type": "code",
   "execution_count": 167,
   "id": "cc287077-75bc-46c2-a381-ee9ea5ddb4d5",
   "metadata": {},
   "outputs": [],
   "source": [
    "mask3=(df_wine.region.str.contains(pat=region)) & (df_wine.variety.str.contains(variety)) & (df_wine.rating > rating) & (df_wine.variety.notnull())\n"
   ]
  },
  {
   "cell_type": "code",
   "execution_count": 92,
   "id": "e1a80ea4-a176-4f69-9e06-b4523dbd4a5b",
   "metadata": {},
   "outputs": [],
   "source": [
    "#df_wine[(df_wine[\"region\"].str.contains(pat='Italy')) & (df_wine.variety.str.contains(\"White\")) & (df_wine.rating > 91.0)]"
   ]
  },
  {
   "cell_type": "code",
   "execution_count": 168,
   "id": "94d0d878-aca2-4a75-933e-be85458c3d93",
   "metadata": {},
   "outputs": [
    {
     "data": {
      "text/html": [
       "<div>\n",
       "<style scoped>\n",
       "    .dataframe tbody tr th:only-of-type {\n",
       "        vertical-align: middle;\n",
       "    }\n",
       "\n",
       "    .dataframe tbody tr th {\n",
       "        vertical-align: top;\n",
       "    }\n",
       "\n",
       "    .dataframe thead th {\n",
       "        text-align: right;\n",
       "    }\n",
       "</style>\n",
       "<table border=\"1\" class=\"dataframe\">\n",
       "  <thead>\n",
       "    <tr style=\"text-align: right;\">\n",
       "      <th></th>\n",
       "      <th>Unnamed: 0</th>\n",
       "      <th>name</th>\n",
       "      <th>grape</th>\n",
       "      <th>region</th>\n",
       "      <th>variety</th>\n",
       "      <th>rating</th>\n",
       "      <th>notes</th>\n",
       "    </tr>\n",
       "  </thead>\n",
       "  <tbody>\n",
       "    <tr>\n",
       "      <th>153</th>\n",
       "      <td>153</td>\n",
       "      <td>Le Due Terre Colli Orientali del Friuli Sacris...</td>\n",
       "      <td>NaN</td>\n",
       "      <td>Friuli-Venezia Giulia, Italy</td>\n",
       "      <td>White Wine</td>\n",
       "      <td>95.0</td>\n",
       "      <td>Bright straw yellow. Intense and persistent fl...</td>\n",
       "    </tr>\n",
       "    <tr>\n",
       "      <th>203</th>\n",
       "      <td>203</td>\n",
       "      <td>Le Macchiole Paleo Bianco 2015</td>\n",
       "      <td>NaN</td>\n",
       "      <td>Tuscany, Italy</td>\n",
       "      <td>White Wine</td>\n",
       "      <td>93.0</td>\n",
       "      <td>1991 born the first Paleo Bianco, a very small...</td>\n",
       "    </tr>\n",
       "    <tr>\n",
       "      <th>204</th>\n",
       "      <td>204</td>\n",
       "      <td>Le Macchiole Paleo Bianco 2016</td>\n",
       "      <td>NaN</td>\n",
       "      <td>Tuscany, Italy</td>\n",
       "      <td>White Wine</td>\n",
       "      <td>93.0</td>\n",
       "      <td>This blend features a Mediterranean character ...</td>\n",
       "    </tr>\n",
       "    <tr>\n",
       "      <th>205</th>\n",
       "      <td>205</td>\n",
       "      <td>Le Macchiole Paleo Bianco 2017</td>\n",
       "      <td>NaN</td>\n",
       "      <td>Tuscany, Italy</td>\n",
       "      <td>White Wine</td>\n",
       "      <td>92.0</td>\n",
       "      <td>Paleo Bianco today is a silky, mineral-driven ...</td>\n",
       "    </tr>\n",
       "    <tr>\n",
       "      <th>655</th>\n",
       "      <td>655</td>\n",
       "      <td>Les Cretes Valle d'Aosta Chardonnay 2010</td>\n",
       "      <td>NaN</td>\n",
       "      <td>Italy</td>\n",
       "      <td>White Wine</td>\n",
       "      <td>92.0</td>\n",
       "      <td>Valle d'Aosta Chardonnay is a lovely yellow. T...</td>\n",
       "    </tr>\n",
       "    <tr>\n",
       "      <th>656</th>\n",
       "      <td>656</td>\n",
       "      <td>Les Cretes Valle d'Aosta Cuvee Bois Chardonnay...</td>\n",
       "      <td>NaN</td>\n",
       "      <td>Valle d'Aosta, Italy</td>\n",
       "      <td>White Wine</td>\n",
       "      <td>94.0</td>\n",
       "      <td>The opening to the nose ranges from banana to ...</td>\n",
       "    </tr>\n",
       "  </tbody>\n",
       "</table>\n",
       "</div>"
      ],
      "text/plain": [
       "     Unnamed: 0                                               name  grape  \\\n",
       "153         153  Le Due Terre Colli Orientali del Friuli Sacris...    NaN   \n",
       "203         203                     Le Macchiole Paleo Bianco 2015    NaN   \n",
       "204         204                     Le Macchiole Paleo Bianco 2016    NaN   \n",
       "205         205                     Le Macchiole Paleo Bianco 2017    NaN   \n",
       "655         655           Les Cretes Valle d'Aosta Chardonnay 2010    NaN   \n",
       "656         656  Les Cretes Valle d'Aosta Cuvee Bois Chardonnay...    NaN   \n",
       "\n",
       "                           region     variety  rating  \\\n",
       "153  Friuli-Venezia Giulia, Italy  White Wine    95.0   \n",
       "203                Tuscany, Italy  White Wine    93.0   \n",
       "204                Tuscany, Italy  White Wine    93.0   \n",
       "205                Tuscany, Italy  White Wine    92.0   \n",
       "655                         Italy  White Wine    92.0   \n",
       "656          Valle d'Aosta, Italy  White Wine    94.0   \n",
       "\n",
       "                                                 notes  \n",
       "153  Bright straw yellow. Intense and persistent fl...  \n",
       "203  1991 born the first Paleo Bianco, a very small...  \n",
       "204  This blend features a Mediterranean character ...  \n",
       "205  Paleo Bianco today is a silky, mineral-driven ...  \n",
       "655  Valle d'Aosta Chardonnay is a lovely yellow. T...  \n",
       "656  The opening to the nose ranges from banana to ...  "
      ]
     },
     "execution_count": 168,
     "metadata": {},
     "output_type": "execute_result"
    }
   ],
   "source": [
    "df_filtered=df_wine[mask3]\n",
    "df_filtered"
   ]
  },
  {
   "cell_type": "code",
   "execution_count": 169,
   "id": "10260f51-64ea-49c6-adb5-5e9e87b2cae9",
   "metadata": {},
   "outputs": [
    {
     "data": {
      "text/html": [
       "<div>\n",
       "<style scoped>\n",
       "    .dataframe tbody tr th:only-of-type {\n",
       "        vertical-align: middle;\n",
       "    }\n",
       "\n",
       "    .dataframe tbody tr th {\n",
       "        vertical-align: top;\n",
       "    }\n",
       "\n",
       "    .dataframe thead th {\n",
       "        text-align: right;\n",
       "    }\n",
       "</style>\n",
       "<table border=\"1\" class=\"dataframe\">\n",
       "  <thead>\n",
       "    <tr style=\"text-align: right;\">\n",
       "      <th></th>\n",
       "      <th>name</th>\n",
       "      <th>region</th>\n",
       "      <th>variety</th>\n",
       "      <th>rating</th>\n",
       "    </tr>\n",
       "  </thead>\n",
       "  <tbody>\n",
       "    <tr>\n",
       "      <th>153</th>\n",
       "      <td>Le Due Terre Colli Orientali del Friuli Sacris...</td>\n",
       "      <td>Friuli-Venezia Giulia, Italy</td>\n",
       "      <td>White Wine</td>\n",
       "      <td>95.0</td>\n",
       "    </tr>\n",
       "    <tr>\n",
       "      <th>203</th>\n",
       "      <td>Le Macchiole Paleo Bianco 2015</td>\n",
       "      <td>Tuscany, Italy</td>\n",
       "      <td>White Wine</td>\n",
       "      <td>93.0</td>\n",
       "    </tr>\n",
       "    <tr>\n",
       "      <th>204</th>\n",
       "      <td>Le Macchiole Paleo Bianco 2016</td>\n",
       "      <td>Tuscany, Italy</td>\n",
       "      <td>White Wine</td>\n",
       "      <td>93.0</td>\n",
       "    </tr>\n",
       "    <tr>\n",
       "      <th>205</th>\n",
       "      <td>Le Macchiole Paleo Bianco 2017</td>\n",
       "      <td>Tuscany, Italy</td>\n",
       "      <td>White Wine</td>\n",
       "      <td>92.0</td>\n",
       "    </tr>\n",
       "    <tr>\n",
       "      <th>655</th>\n",
       "      <td>Les Cretes Valle d'Aosta Chardonnay 2010</td>\n",
       "      <td>Italy</td>\n",
       "      <td>White Wine</td>\n",
       "      <td>92.0</td>\n",
       "    </tr>\n",
       "    <tr>\n",
       "      <th>656</th>\n",
       "      <td>Les Cretes Valle d'Aosta Cuvee Bois Chardonnay...</td>\n",
       "      <td>Valle d'Aosta, Italy</td>\n",
       "      <td>White Wine</td>\n",
       "      <td>94.0</td>\n",
       "    </tr>\n",
       "  </tbody>\n",
       "</table>\n",
       "</div>"
      ],
      "text/plain": [
       "                                                  name  \\\n",
       "153  Le Due Terre Colli Orientali del Friuli Sacris...   \n",
       "203                     Le Macchiole Paleo Bianco 2015   \n",
       "204                     Le Macchiole Paleo Bianco 2016   \n",
       "205                     Le Macchiole Paleo Bianco 2017   \n",
       "655           Les Cretes Valle d'Aosta Chardonnay 2010   \n",
       "656  Les Cretes Valle d'Aosta Cuvee Bois Chardonnay...   \n",
       "\n",
       "                           region     variety  rating  \n",
       "153  Friuli-Venezia Giulia, Italy  White Wine    95.0  \n",
       "203                Tuscany, Italy  White Wine    93.0  \n",
       "204                Tuscany, Italy  White Wine    93.0  \n",
       "205                Tuscany, Italy  White Wine    92.0  \n",
       "655                         Italy  White Wine    92.0  \n",
       "656          Valle d'Aosta, Italy  White Wine    94.0  "
      ]
     },
     "execution_count": 169,
     "metadata": {},
     "output_type": "execute_result"
    }
   ],
   "source": [
    "df_filtered=df_filtered[['name','region','variety','rating']]\n",
    "df_filtered"
   ]
  },
  {
   "cell_type": "code",
   "execution_count": null,
   "id": "ac64b562-8384-4fda-a18a-ccf7c5a862bd",
   "metadata": {},
   "outputs": [],
   "source": [
    "##Use pandas to_json to create file"
   ]
  },
  {
   "cell_type": "code",
   "execution_count": 170,
   "id": "489fc75e-0384-47fb-970c-d896bffd4e34",
   "metadata": {},
   "outputs": [],
   "source": [
    "df_filtered.to_json('wine_Italy.json')"
   ]
  },
  {
   "cell_type": "code",
   "execution_count": null,
   "id": "a0f8555e-7688-40b9-9479-a9f792a15cae",
   "metadata": {},
   "outputs": [],
   "source": []
  },
  {
   "cell_type": "code",
   "execution_count": null,
   "id": "c5982b37-f234-409e-b7e9-e9fb9931010b",
   "metadata": {},
   "outputs": [],
   "source": [
    "############################################### New Conditions"
   ]
  },
  {
   "cell_type": "code",
   "execution_count": null,
   "id": "5443e47e-16d6-4527-9fce-1b14f8f8288b",
   "metadata": {},
   "outputs": [],
   "source": []
  },
  {
   "cell_type": "code",
   "execution_count": 186,
   "id": "569ab6f8-3087-4a7b-aadb-c41cd4a39d1a",
   "metadata": {},
   "outputs": [
    {
     "data": {
      "text/html": [
       "<div>\n",
       "<style scoped>\n",
       "    .dataframe tbody tr th:only-of-type {\n",
       "        vertical-align: middle;\n",
       "    }\n",
       "\n",
       "    .dataframe tbody tr th {\n",
       "        vertical-align: top;\n",
       "    }\n",
       "\n",
       "    .dataframe thead th {\n",
       "        text-align: right;\n",
       "    }\n",
       "</style>\n",
       "<table border=\"1\" class=\"dataframe\">\n",
       "  <thead>\n",
       "    <tr style=\"text-align: right;\">\n",
       "      <th></th>\n",
       "      <th>Unnamed: 0</th>\n",
       "      <th>name</th>\n",
       "      <th>grape</th>\n",
       "      <th>region</th>\n",
       "      <th>variety</th>\n",
       "      <th>rating</th>\n",
       "      <th>notes</th>\n",
       "    </tr>\n",
       "  </thead>\n",
       "  <tbody>\n",
       "    <tr>\n",
       "      <th>323</th>\n",
       "      <td>323</td>\n",
       "      <td>L'Ecole 41 Chardonnay 2004</td>\n",
       "      <td>NaN</td>\n",
       "      <td>Columbia Valley, Washington</td>\n",
       "      <td>White Wine</td>\n",
       "      <td>87.0</td>\n",
       "      <td>\"The structure and backbone of this wine comes...</td>\n",
       "    </tr>\n",
       "    <tr>\n",
       "      <th>326</th>\n",
       "      <td>326</td>\n",
       "      <td>L'Ecole 41 Chardonnay 2008</td>\n",
       "      <td>NaN</td>\n",
       "      <td>Columbia Valley, Washington</td>\n",
       "      <td>White Wine</td>\n",
       "      <td>88.0</td>\n",
       "      <td>This elegantly balanced Chardonnay shows robus...</td>\n",
       "    </tr>\n",
       "    <tr>\n",
       "      <th>334</th>\n",
       "      <td>334</td>\n",
       "      <td>L'Ecole 41 Chardonnay 2018</td>\n",
       "      <td>NaN</td>\n",
       "      <td>Columbia Valley, Washington</td>\n",
       "      <td>White Wine</td>\n",
       "      <td>89.0</td>\n",
       "      <td>This classic Chardonnay offers an inviting mix...</td>\n",
       "    </tr>\n",
       "    <tr>\n",
       "      <th>390</th>\n",
       "      <td>390</td>\n",
       "      <td>L'Ecole 41 Semillon 2010</td>\n",
       "      <td>NaN</td>\n",
       "      <td>Columbia Valley, Washington</td>\n",
       "      <td>White Wine</td>\n",
       "      <td>87.0</td>\n",
       "      <td>Remarkably brilliant with vibrant fruit and ba...</td>\n",
       "    </tr>\n",
       "    <tr>\n",
       "      <th>394</th>\n",
       "      <td>394</td>\n",
       "      <td>L'Ecole 41 Semillon 2015</td>\n",
       "      <td>NaN</td>\n",
       "      <td>Columbia Valley, Washington</td>\n",
       "      <td>White Wine</td>\n",
       "      <td>89.0</td>\n",
       "      <td>Rich with vibrant fruit and balanced acidity, ...</td>\n",
       "    </tr>\n",
       "  </tbody>\n",
       "</table>\n",
       "</div>"
      ],
      "text/plain": [
       "     Unnamed: 0                        name  grape  \\\n",
       "323         323  L'Ecole 41 Chardonnay 2004    NaN   \n",
       "326         326  L'Ecole 41 Chardonnay 2008    NaN   \n",
       "334         334  L'Ecole 41 Chardonnay 2018    NaN   \n",
       "390         390    L'Ecole 41 Semillon 2010    NaN   \n",
       "394         394    L'Ecole 41 Semillon 2015    NaN   \n",
       "\n",
       "                          region     variety  rating  \\\n",
       "323  Columbia Valley, Washington  White Wine    87.0   \n",
       "326  Columbia Valley, Washington  White Wine    88.0   \n",
       "334  Columbia Valley, Washington  White Wine    89.0   \n",
       "390  Columbia Valley, Washington  White Wine    87.0   \n",
       "394  Columbia Valley, Washington  White Wine    89.0   \n",
       "\n",
       "                                                 notes  \n",
       "323  \"The structure and backbone of this wine comes...  \n",
       "326  This elegantly balanced Chardonnay shows robus...  \n",
       "334  This classic Chardonnay offers an inviting mix...  \n",
       "390  Remarkably brilliant with vibrant fruit and ba...  \n",
       "394  Rich with vibrant fruit and balanced acidity, ...  "
      ]
     },
     "execution_count": 186,
     "metadata": {},
     "output_type": "execute_result"
    }
   ],
   "source": [
    "region=\"Washington\"\n",
    "variety=\"White\"\n",
    "rating= 90\n",
    "\n",
    "mask4=(df_wine.region.str.contains(pat=region)) & (df_wine.variety.str.contains(variety)) & (df_wine.rating < rating) & (df_wine.variety.notnull())\n",
    "\n",
    "df_filtered=df_wine[mask4]\n",
    "df_filtered"
   ]
  },
  {
   "cell_type": "code",
   "execution_count": 138,
   "id": "b174ef00-fc03-419f-a98a-081568e81115",
   "metadata": {},
   "outputs": [
    {
     "data": {
      "text/plain": [
       "Index(['name', 'region', 'variety', 'rating'], dtype='object')"
      ]
     },
     "execution_count": 138,
     "metadata": {},
     "output_type": "execute_result"
    }
   ],
   "source": []
  },
  {
   "cell_type": "code",
   "execution_count": 188,
   "id": "f985dc1d-37c8-42b4-9ab3-5118cff5313c",
   "metadata": {},
   "outputs": [
    {
     "data": {
      "text/html": [
       "<div>\n",
       "<style scoped>\n",
       "    .dataframe tbody tr th:only-of-type {\n",
       "        vertical-align: middle;\n",
       "    }\n",
       "\n",
       "    .dataframe tbody tr th {\n",
       "        vertical-align: top;\n",
       "    }\n",
       "\n",
       "    .dataframe thead th {\n",
       "        text-align: right;\n",
       "    }\n",
       "</style>\n",
       "<table border=\"1\" class=\"dataframe\">\n",
       "  <thead>\n",
       "    <tr style=\"text-align: right;\">\n",
       "      <th></th>\n",
       "      <th>name</th>\n",
       "      <th>region</th>\n",
       "      <th>variety</th>\n",
       "      <th>rating</th>\n",
       "    </tr>\n",
       "  </thead>\n",
       "  <tbody>\n",
       "    <tr>\n",
       "      <th>323</th>\n",
       "      <td>L'Ecole 41 Chardonnay 2004</td>\n",
       "      <td>Columbia Valley, Washington</td>\n",
       "      <td>White Wine</td>\n",
       "      <td>87.0</td>\n",
       "    </tr>\n",
       "    <tr>\n",
       "      <th>326</th>\n",
       "      <td>L'Ecole 41 Chardonnay 2008</td>\n",
       "      <td>Columbia Valley, Washington</td>\n",
       "      <td>White Wine</td>\n",
       "      <td>88.0</td>\n",
       "    </tr>\n",
       "    <tr>\n",
       "      <th>334</th>\n",
       "      <td>L'Ecole 41 Chardonnay 2018</td>\n",
       "      <td>Columbia Valley, Washington</td>\n",
       "      <td>White Wine</td>\n",
       "      <td>89.0</td>\n",
       "    </tr>\n",
       "    <tr>\n",
       "      <th>390</th>\n",
       "      <td>L'Ecole 41 Semillon 2010</td>\n",
       "      <td>Columbia Valley, Washington</td>\n",
       "      <td>White Wine</td>\n",
       "      <td>87.0</td>\n",
       "    </tr>\n",
       "    <tr>\n",
       "      <th>394</th>\n",
       "      <td>L'Ecole 41 Semillon 2015</td>\n",
       "      <td>Columbia Valley, Washington</td>\n",
       "      <td>White Wine</td>\n",
       "      <td>89.0</td>\n",
       "    </tr>\n",
       "  </tbody>\n",
       "</table>\n",
       "</div>"
      ],
      "text/plain": [
       "                           name                       region     variety  \\\n",
       "323  L'Ecole 41 Chardonnay 2004  Columbia Valley, Washington  White Wine   \n",
       "326  L'Ecole 41 Chardonnay 2008  Columbia Valley, Washington  White Wine   \n",
       "334  L'Ecole 41 Chardonnay 2018  Columbia Valley, Washington  White Wine   \n",
       "390    L'Ecole 41 Semillon 2010  Columbia Valley, Washington  White Wine   \n",
       "394    L'Ecole 41 Semillon 2015  Columbia Valley, Washington  White Wine   \n",
       "\n",
       "     rating  \n",
       "323    87.0  \n",
       "326    88.0  \n",
       "334    89.0  \n",
       "390    87.0  \n",
       "394    89.0  "
      ]
     },
     "execution_count": 188,
     "metadata": {},
     "output_type": "execute_result"
    }
   ],
   "source": [
    "df_filtered=df_filtered[['name','region','variety','rating']]\n",
    "df_filtered"
   ]
  },
  {
   "cell_type": "code",
   "execution_count": null,
   "id": "192cbe6c-ff99-40b3-aef9-abb810940f9e",
   "metadata": {},
   "outputs": [],
   "source": []
  },
  {
   "cell_type": "code",
   "execution_count": null,
   "id": "16ebeb8f-467d-4434-a625-d5a6d70ce9c6",
   "metadata": {},
   "outputs": [],
   "source": [
    "############# creating dictionary from the dataset"
   ]
  },
  {
   "cell_type": "code",
   "execution_count": null,
   "id": "e8f0a2ea-c851-49b0-b74a-ac543ef2b2b3",
   "metadata": {},
   "outputs": [],
   "source": []
  },
  {
   "cell_type": "code",
   "execution_count": 189,
   "id": "87d50bb1-ff3f-42a7-9b2f-3e43367c8b96",
   "metadata": {},
   "outputs": [
    {
     "data": {
      "text/plain": [
       "{'name': [\"L'Ecole 41 Chardonnay 2004\",\n",
       "  \"L'Ecole 41 Chardonnay 2008\",\n",
       "  \"L'Ecole 41 Chardonnay 2018\",\n",
       "  \"L'Ecole 41 Semillon 2010\",\n",
       "  \"L'Ecole 41 Semillon 2015\"],\n",
       " 'region': ['Columbia Valley, Washington',\n",
       "  'Columbia Valley, Washington',\n",
       "  'Columbia Valley, Washington',\n",
       "  'Columbia Valley, Washington',\n",
       "  'Columbia Valley, Washington'],\n",
       " 'variety': ['White Wine',\n",
       "  'White Wine',\n",
       "  'White Wine',\n",
       "  'White Wine',\n",
       "  'White Wine'],\n",
       " 'rating': [87.0, 88.0, 89.0, 87.0, 89.0]}"
      ]
     },
     "execution_count": 189,
     "metadata": {},
     "output_type": "execute_result"
    }
   ],
   "source": [
    "dict1 = {}\n",
    "keys=list(df_filtered.columns)\n",
    "\n",
    "for ii in keys:\n",
    "    dict1[ii]=list(df_filtered[ii]) ## make it a list if not error!!\n",
    "\n",
    "dict1"
   ]
  },
  {
   "cell_type": "code",
   "execution_count": 153,
   "id": "0e3fce50-8bad-4028-b0a2-fa5e6899d30c",
   "metadata": {},
   "outputs": [],
   "source": []
  },
  {
   "cell_type": "code",
   "execution_count": 190,
   "id": "15d0ca17-bf00-4124-93f4-6dcc12c40cc3",
   "metadata": {},
   "outputs": [],
   "source": [
    "## use dump to create json file"
   ]
  },
  {
   "cell_type": "code",
   "execution_count": 185,
   "id": "bf8a0038-afaa-44e1-a28c-ef42cad392fd",
   "metadata": {},
   "outputs": [],
   "source": [
    "with open('wine_washington.json','w') as f:\n",
    "    json.dump(dict1,f, indent=2)"
   ]
  },
  {
   "cell_type": "code",
   "execution_count": 179,
   "id": "0e2aee9e-4a05-4753-bdf5-700abeaa5029",
   "metadata": {},
   "outputs": [],
   "source": []
  }
 ],
 "metadata": {
  "kernelspec": {
   "display_name": "Python 3 (ipykernel)",
   "language": "python",
   "name": "python3"
  },
  "language_info": {
   "codemirror_mode": {
    "name": "ipython",
    "version": 3
   },
   "file_extension": ".py",
   "mimetype": "text/x-python",
   "name": "python",
   "nbconvert_exporter": "python",
   "pygments_lexer": "ipython3",
   "version": "3.9.7"
  }
 },
 "nbformat": 4,
 "nbformat_minor": 5
}
